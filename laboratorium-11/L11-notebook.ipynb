{
 "cells": [
  {
   "cell_type": "markdown",
   "id": "1ddf9a96",
   "metadata": {},
   "source": [
    "**L11 - Kajetan Walawski**"
   ]
  },
  {
   "cell_type": "code",
   "execution_count": 93,
   "id": "9c14bbec",
   "metadata": {},
   "outputs": [
    {
     "data": {
      "text/html": [
       "<div>\n",
       "<style scoped>\n",
       "    .dataframe tbody tr th:only-of-type {\n",
       "        vertical-align: middle;\n",
       "    }\n",
       "\n",
       "    .dataframe tbody tr th {\n",
       "        vertical-align: top;\n",
       "    }\n",
       "\n",
       "    .dataframe thead th {\n",
       "        text-align: right;\n",
       "    }\n",
       "</style>\n",
       "<table border=\"1\" class=\"dataframe\">\n",
       "  <thead>\n",
       "    <tr style=\"text-align: right;\">\n",
       "      <th></th>\n",
       "      <th>gid</th>\n",
       "      <th>id</th>\n",
       "      <th>name</th>\n",
       "      <th>oneway</th>\n",
       "      <th>type</th>\n",
       "    </tr>\n",
       "  </thead>\n",
       "  <tbody>\n",
       "    <tr>\n",
       "      <th>0</th>\n",
       "      <td>1</td>\n",
       "      <td>1</td>\n",
       "      <td>Shore Pky S</td>\n",
       "      <td>NaN</td>\n",
       "      <td>residential</td>\n",
       "    </tr>\n",
       "    <tr>\n",
       "      <th>1</th>\n",
       "      <td>2</td>\n",
       "      <td>2</td>\n",
       "      <td>NaN</td>\n",
       "      <td>NaN</td>\n",
       "      <td>footway</td>\n",
       "    </tr>\n",
       "    <tr>\n",
       "      <th>2</th>\n",
       "      <td>3</td>\n",
       "      <td>3</td>\n",
       "      <td>Avenue O</td>\n",
       "      <td>NaN</td>\n",
       "      <td>residential</td>\n",
       "    </tr>\n",
       "    <tr>\n",
       "      <th>3</th>\n",
       "      <td>4</td>\n",
       "      <td>4</td>\n",
       "      <td>Walsh Ct</td>\n",
       "      <td>NaN</td>\n",
       "      <td>residential</td>\n",
       "    </tr>\n",
       "    <tr>\n",
       "      <th>4</th>\n",
       "      <td>5</td>\n",
       "      <td>5</td>\n",
       "      <td>NaN</td>\n",
       "      <td>NaN</td>\n",
       "      <td>motorway_link</td>\n",
       "    </tr>\n",
       "  </tbody>\n",
       "</table>\n",
       "</div>"
      ],
      "text/plain": [
       "   gid  id         name oneway           type\n",
       "0    1   1  Shore Pky S    NaN    residential\n",
       "1    2   2          NaN    NaN        footway\n",
       "2    3   3     Avenue O    NaN    residential\n",
       "3    4   4     Walsh Ct    NaN    residential\n",
       "4    5   5          NaN    NaN  motorway_link"
      ]
     },
     "execution_count": 93,
     "metadata": {},
     "output_type": "execute_result"
    }
   ],
   "source": [
    "import csv\n",
    "import pandas as pd\n",
    "\n",
    "# Pobranie danych z pliku \n",
    "ulice = pd.read_csv('nyc_streets.csv')\n",
    "ulice.head()"
   ]
  },
  {
   "cell_type": "code",
   "execution_count": 23,
   "id": "031e4f64",
   "metadata": {},
   "outputs": [
    {
     "data": {
      "text/plain": [
       "19091"
      ]
     },
     "execution_count": 23,
     "metadata": {},
     "output_type": "execute_result"
    }
   ],
   "source": [
    "ulice.shape[0]"
   ]
  },
  {
   "cell_type": "markdown",
   "id": "7a8e0784",
   "metadata": {},
   "source": [
    "**Odpowiedź na pytanie 1:**\n",
    "\n",
    "Ilość rekordów w tabeli nyc_streets to 19091"
   ]
  },
  {
   "cell_type": "code",
   "execution_count": 11,
   "id": "748c43cf",
   "metadata": {},
   "outputs": [],
   "source": [
    "ulice_2 = ulice.dropna(subset=['name'])"
   ]
  },
  {
   "cell_type": "code",
   "execution_count": null,
   "id": "ea0363e4",
   "metadata": {},
   "outputs": [],
   "source": [
    "ulice_B = ulice_2[ulice_2['name'].str.startswith('B')]\n",
    "ulice_Q = ulice_2[ulice_2['name'].str.startswith('Q')]\n",
    "ulice_M = ulice_2[ulice_2['name'].str.startswith('M')]"
   ]
  },
  {
   "cell_type": "markdown",
   "id": "fc1b3459",
   "metadata": {},
   "source": [
    "**Odpowiedź na pytanie 2:**"
   ]
  },
  {
   "cell_type": "code",
   "execution_count": 21,
   "id": "7023b2a8",
   "metadata": {},
   "outputs": [
    {
     "name": "stdout",
     "output_type": "stream",
     "text": [
      "Ilość ulic rozpoczynających się na B: 1282\n",
      "Ilość ulic rozpoczynających się na Q: 68\n",
      "Ilość ulic rozpoczynających się na M: 752\n",
      "Sumaryczna ilość ulic rozpoczynających się na B, Q lub M: 2102\n"
     ]
    }
   ],
   "source": [
    "print('Ilość ulic rozpoczynających się na B:', ulice_B.shape[0])\n",
    "print('Ilość ulic rozpoczynających się na Q:', ulice_Q.shape[0])\n",
    "print('Ilość ulic rozpoczynających się na M:', ulice_M.shape[0])\n",
    "print('Sumaryczna ilość ulic rozpoczynających się na B, Q lub M:', ulice_B.shape[0]+ulice_Q.shape[0]+ulice_M.shape[0])"
   ]
  },
  {
   "cell_type": "code",
   "execution_count": 32,
   "id": "cc4f722f",
   "metadata": {},
   "outputs": [
    {
     "data": {
      "text/html": [
       "<div>\n",
       "<style scoped>\n",
       "    .dataframe tbody tr th:only-of-type {\n",
       "        vertical-align: middle;\n",
       "    }\n",
       "\n",
       "    .dataframe tbody tr th {\n",
       "        vertical-align: top;\n",
       "    }\n",
       "\n",
       "    .dataframe thead th {\n",
       "        text-align: right;\n",
       "    }\n",
       "</style>\n",
       "<table border=\"1\" class=\"dataframe\">\n",
       "  <thead>\n",
       "    <tr style=\"text-align: right;\">\n",
       "      <th></th>\n",
       "      <th>gid</th>\n",
       "      <th>blkid</th>\n",
       "      <th>popn_total</th>\n",
       "      <th>popn_white</th>\n",
       "      <th>popn_black</th>\n",
       "      <th>popn_nativ</th>\n",
       "      <th>popn_asian</th>\n",
       "      <th>popn_other</th>\n",
       "      <th>boroname</th>\n",
       "    </tr>\n",
       "  </thead>\n",
       "  <tbody>\n",
       "    <tr>\n",
       "      <th>0</th>\n",
       "      <td>1</td>\n",
       "      <td>360850009001000</td>\n",
       "      <td>97</td>\n",
       "      <td>51</td>\n",
       "      <td>32</td>\n",
       "      <td>1</td>\n",
       "      <td>5</td>\n",
       "      <td>8</td>\n",
       "      <td>Staten Island</td>\n",
       "    </tr>\n",
       "    <tr>\n",
       "      <th>1</th>\n",
       "      <td>2</td>\n",
       "      <td>360850020011000</td>\n",
       "      <td>66</td>\n",
       "      <td>52</td>\n",
       "      <td>2</td>\n",
       "      <td>0</td>\n",
       "      <td>7</td>\n",
       "      <td>5</td>\n",
       "      <td>Staten Island</td>\n",
       "    </tr>\n",
       "    <tr>\n",
       "      <th>2</th>\n",
       "      <td>3</td>\n",
       "      <td>360850040001000</td>\n",
       "      <td>62</td>\n",
       "      <td>14</td>\n",
       "      <td>18</td>\n",
       "      <td>2</td>\n",
       "      <td>25</td>\n",
       "      <td>3</td>\n",
       "      <td>Staten Island</td>\n",
       "    </tr>\n",
       "    <tr>\n",
       "      <th>3</th>\n",
       "      <td>4</td>\n",
       "      <td>360850074001000</td>\n",
       "      <td>137</td>\n",
       "      <td>92</td>\n",
       "      <td>12</td>\n",
       "      <td>0</td>\n",
       "      <td>13</td>\n",
       "      <td>20</td>\n",
       "      <td>Staten Island</td>\n",
       "    </tr>\n",
       "    <tr>\n",
       "      <th>4</th>\n",
       "      <td>5</td>\n",
       "      <td>360850096011000</td>\n",
       "      <td>289</td>\n",
       "      <td>230</td>\n",
       "      <td>0</td>\n",
       "      <td>0</td>\n",
       "      <td>32</td>\n",
       "      <td>27</td>\n",
       "      <td>Staten Island</td>\n",
       "    </tr>\n",
       "  </tbody>\n",
       "</table>\n",
       "</div>"
      ],
      "text/plain": [
       "   gid            blkid  popn_total  popn_white  popn_black  popn_nativ  \\\n",
       "0    1  360850009001000          97          51          32           1   \n",
       "1    2  360850020011000          66          52           2           0   \n",
       "2    3  360850040001000          62          14          18           2   \n",
       "3    4  360850074001000         137          92          12           0   \n",
       "4    5  360850096011000         289         230           0           0   \n",
       "\n",
       "   popn_asian  popn_other       boroname  \n",
       "0           5           8  Staten Island  \n",
       "1           7           5  Staten Island  \n",
       "2          25           3  Staten Island  \n",
       "3          13          20  Staten Island  \n",
       "4          32          27  Staten Island  "
      ]
     },
     "execution_count": 32,
     "metadata": {},
     "output_type": "execute_result"
    }
   ],
   "source": [
    "# Pobranie danych z pliku \n",
    "populacja = pd.read_csv('nyc_population.csv')\n",
    "populacja.head()"
   ]
  },
  {
   "cell_type": "code",
   "execution_count": 31,
   "id": "1a103aca",
   "metadata": {},
   "outputs": [
    {
     "data": {
      "text/plain": [
       "8175032"
      ]
     },
     "execution_count": 31,
     "metadata": {},
     "output_type": "execute_result"
    }
   ],
   "source": [
    "liczba = 0\n",
    "for i in range(populacja.shape[0]):\n",
    "    liczba += populacja['popn_total'][i]\n",
    "liczba"
   ]
  },
  {
   "cell_type": "markdown",
   "id": "c16e5de8",
   "metadata": {},
   "source": [
    "**Odpowiedź na pytanie 3:**\n",
    "\n",
    "Populacja miasta Nowy Jork wynosi: 8175032."
   ]
  },
  {
   "cell_type": "code",
   "execution_count": 57,
   "id": "9e83fb79",
   "metadata": {},
   "outputs": [],
   "source": [
    "pop_bronx = populacja.loc[populacja['boroname'] == 'The Bronx']\n",
    "pop_man = populacja.loc[populacja['boroname'] == 'Manhattan']\n",
    "pop_queen = populacja.loc[populacja['boroname'] == 'Queens']\n",
    "\n",
    "bronx = pop_bronx.sum(axis = 0, skipna = True)[2]\n",
    "manhattan = pop_man.sum(axis = 0, skipna = True)[2]\n",
    "queens = pop_queen.sum(axis = 0, skipna = True)[2]"
   ]
  },
  {
   "cell_type": "markdown",
   "id": "c3f326c7",
   "metadata": {},
   "source": [
    "**Odpowiedź na pytanie 4**"
   ]
  },
  {
   "cell_type": "code",
   "execution_count": 59,
   "id": "2d9834c3",
   "metadata": {},
   "outputs": [
    {
     "name": "stdout",
     "output_type": "stream",
     "text": [
      "Populacja Bronxu wynosi:  1385108\n",
      "Populacja Manhattanu wynosi:  1585873\n",
      "Populacja Queens wynosi:  2230621\n",
      "Populacja wszystkich trzech powyższych dzielnic wynosi:  5201602\n"
     ]
    }
   ],
   "source": [
    "print('Populacja Bronxu wynosi: ', bronx)\n",
    "print('Populacja Manhattanu wynosi: ', manhattan)\n",
    "print('Populacja Queens wynosi: ', queens)\n",
    "print('Populacja wszystkich trzech powyższych dzielnic wynosi: ', bronx+manhattan+queens)"
   ]
  },
  {
   "cell_type": "code",
   "execution_count": 95,
   "id": "9a8da525",
   "metadata": {},
   "outputs": [],
   "source": [
    "# Pobranie danych z pliku \n",
    "neighborhoods = pd.read_csv('nyc_neighborhoods.csv')\n",
    "neighborhoods_2 = neighborhoods.drop(['gid'], axis=1)\n",
    "neighborhoods_3 = neighborhoods_2.rename(columns={\"boroname\":\"nazwa gminy\", \"name\": \"liczba dzielnic\"})\n",
    "result = neighborhoods_3.groupby(['nazwa gminy']).count()"
   ]
  },
  {
   "cell_type": "markdown",
   "id": "156a6b98",
   "metadata": {},
   "source": [
    "**Odpowiedź na pytanie 5:**"
   ]
  },
  {
   "cell_type": "code",
   "execution_count": 94,
   "id": "68210546",
   "metadata": {},
   "outputs": [
    {
     "data": {
      "text/html": [
       "<div>\n",
       "<style scoped>\n",
       "    .dataframe tbody tr th:only-of-type {\n",
       "        vertical-align: middle;\n",
       "    }\n",
       "\n",
       "    .dataframe tbody tr th {\n",
       "        vertical-align: top;\n",
       "    }\n",
       "\n",
       "    .dataframe thead th {\n",
       "        text-align: right;\n",
       "    }\n",
       "</style>\n",
       "<table border=\"1\" class=\"dataframe\">\n",
       "  <thead>\n",
       "    <tr style=\"text-align: right;\">\n",
       "      <th></th>\n",
       "      <th>liczba dzielnic</th>\n",
       "    </tr>\n",
       "    <tr>\n",
       "      <th>nazwa gminy</th>\n",
       "      <th></th>\n",
       "    </tr>\n",
       "  </thead>\n",
       "  <tbody>\n",
       "    <tr>\n",
       "      <th>Brooklyn</th>\n",
       "      <td>23</td>\n",
       "    </tr>\n",
       "    <tr>\n",
       "      <th>Manhattan</th>\n",
       "      <td>28</td>\n",
       "    </tr>\n",
       "    <tr>\n",
       "      <th>Queens</th>\n",
       "      <td>30</td>\n",
       "    </tr>\n",
       "    <tr>\n",
       "      <th>Staten Island</th>\n",
       "      <td>24</td>\n",
       "    </tr>\n",
       "    <tr>\n",
       "      <th>The Bronx</th>\n",
       "      <td>24</td>\n",
       "    </tr>\n",
       "  </tbody>\n",
       "</table>\n",
       "</div>"
      ],
      "text/plain": [
       "               liczba dzielnic\n",
       "nazwa gminy                   \n",
       "Brooklyn                    23\n",
       "Manhattan                   28\n",
       "Queens                      30\n",
       "Staten Island               24\n",
       "The Bronx                   24"
      ]
     },
     "execution_count": 94,
     "metadata": {},
     "output_type": "execute_result"
    }
   ],
   "source": [
    "result"
   ]
  },
  {
   "cell_type": "code",
   "execution_count": null,
   "id": "e4225cdb",
   "metadata": {},
   "outputs": [],
   "source": []
  }
 ],
 "metadata": {
  "kernelspec": {
   "display_name": "Python 3",
   "language": "python",
   "name": "python3"
  },
  "language_info": {
   "codemirror_mode": {
    "name": "ipython",
    "version": 3
   },
   "file_extension": ".py",
   "mimetype": "text/x-python",
   "name": "python",
   "nbconvert_exporter": "python",
   "pygments_lexer": "ipython3",
   "version": "3.8.8"
  }
 },
 "nbformat": 4,
 "nbformat_minor": 5
}
